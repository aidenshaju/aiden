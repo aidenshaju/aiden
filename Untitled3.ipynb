{
  "nbformat": 4,
  "nbformat_minor": 0,
  "metadata": {
    "colab": {
      "provenance": []
    },
    "kernelspec": {
      "name": "python3",
      "display_name": "Python 3"
    },
    "language_info": {
      "name": "python"
    }
  },
  "cells": [
    {
      "cell_type": "code",
      "execution_count": 1,
      "metadata": {
        "colab": {
          "base_uri": "https://localhost:8080/"
        },
        "id": "7tniNmR19J7d",
        "outputId": "a451475f-a27b-4996-9f9e-ddc59f2a2637"
      },
      "outputs": [
        {
          "output_type": "stream",
          "name": "stdout",
          "text": [
            "Enter radius of circle: 3\n",
            "Area of circle = 28.269\n"
          ]
        }
      ],
      "source": [
        "#question1\n",
        "r = float(input(\"Enter radius of circle: \"))\n",
        "a = 3.141* r * r\n",
        "print(\"Area of circle =\", a)"
      ]
    },
    {
      "cell_type": "code",
      "source": [
        "#question2\n",
        "name=input('enter the name:')\n",
        "rollno=int(input('enter the roll number:'))\n",
        "marks=int(input('enter the mark:'))\n",
        "print('NAME:',name)\n",
        "print('ROLL NO:',rollno)\n",
        "print('MARK:',marks)"
      ],
      "metadata": {
        "colab": {
          "base_uri": "https://localhost:8080/"
        },
        "id": "nMF273qO_zf-",
        "outputId": "7eff2861-7514-4069-8a52-66cfbac75ddc"
      },
      "execution_count": 8,
      "outputs": [
        {
          "output_type": "stream",
          "name": "stdout",
          "text": [
            "enter the name:raju\n",
            "enter the roll number:23\n",
            "enter the mark:45\n",
            "NAME: raju\n",
            "ROLL NO: 23\n",
            "MARK: 45\n"
          ]
        }
      ]
    },
    {
      "cell_type": "code",
      "source": [
        "#question3\n",
        "a=0\n",
        "b=4\n",
        "c=88\n",
        "d=23\n",
        "res = max(a, b, c,d)\n",
        "print(res)\n"
      ],
      "metadata": {
        "colab": {
          "base_uri": "https://localhost:8080/"
        },
        "id": "po45N6hLCICP",
        "outputId": "5d071bc7-5233-405c-ed51-1bb998c3c7a8"
      },
      "execution_count": 9,
      "outputs": [
        {
          "output_type": "stream",
          "name": "stdout",
          "text": [
            "88\n"
          ]
        }
      ]
    },
    {
      "cell_type": "code",
      "source": [
        "#question4\n",
        "for i in range (1,9):\n",
        "  num=i,i-1\n",
        "  currentnum=i\n",
        "  previousnum=i-1\n",
        "  print('current num:',currentnum)\n",
        "  print(' previous num:',previousnum)\n",
        "  print(currentnum+previousnum)"
      ],
      "metadata": {
        "colab": {
          "base_uri": "https://localhost:8080/"
        },
        "id": "-NvDGcUvBNdN",
        "outputId": "758c11b8-5032-4bbb-bf1a-e4a426f3d450"
      },
      "execution_count": 12,
      "outputs": [
        {
          "output_type": "stream",
          "name": "stdout",
          "text": [
            "current num: 1\n",
            " previous num: 0\n",
            "1\n",
            "current num: 2\n",
            " previous num: 1\n",
            "3\n",
            "current num: 3\n",
            " previous num: 2\n",
            "5\n",
            "current num: 4\n",
            " previous num: 3\n",
            "7\n",
            "current num: 5\n",
            " previous num: 4\n",
            "9\n",
            "current num: 6\n",
            " previous num: 5\n",
            "11\n",
            "current num: 7\n",
            " previous num: 6\n",
            "13\n",
            "current num: 8\n",
            " previous num: 7\n",
            "15\n"
          ]
        }
      ]
    },
    {
      "cell_type": "code",
      "source": [
        "#question5\n",
        "\n",
        "scores=[12,30,56,23,45,70]\n",
        "for sc in scores :\n",
        "  sc=sc%5==0\n",
        "  print(sc)"
      ],
      "metadata": {
        "colab": {
          "base_uri": "https://localhost:8080/"
        },
        "id": "ixfTIhE7F8y5",
        "outputId": "f468339e-3da0-4cf7-95ef-dcb11408a855"
      },
      "execution_count": 9,
      "outputs": [
        {
          "output_type": "stream",
          "name": "stdout",
          "text": [
            "False\n",
            "True\n",
            "False\n",
            "False\n",
            "True\n",
            "True\n"
          ]
        }
      ]
    },
    {
      "cell_type": "code",
      "source": [
        "#prime\n",
        "num = 15\n",
        "flag = 0\n",
        "for i in range(2,num):\n",
        "  if num%i==0:\n",
        "    flag = 1\n",
        "    break\n",
        "if flag == 1:\n",
        "  print('Not Prime')\n",
        "else:\n",
        "  print(\"Prime\")"
      ],
      "metadata": {
        "colab": {
          "base_uri": "https://localhost:8080/"
        },
        "id": "xkmmh2-FJy6i",
        "outputId": "2cbbd82b-5b74-448f-c573-2505fde7dbcd"
      },
      "execution_count": 12,
      "outputs": [
        {
          "output_type": "stream",
          "name": "stdout",
          "text": [
            "Not Prime\n"
          ]
        }
      ]
    },
    {
      "cell_type": "code",
      "source": [
        "#7\n",
        "a = [1, 2, 3, 4, 5]\n",
        "a.reverse()\n",
        "print(a)"
      ],
      "metadata": {
        "colab": {
          "base_uri": "https://localhost:8080/"
        },
        "id": "loYOGFjeLcDn",
        "outputId": "f4a9bcd9-7702-4c43-e30f-391604f1db36"
      },
      "execution_count": 11,
      "outputs": [
        {
          "output_type": "stream",
          "name": "stdout",
          "text": [
            "[5, 4, 3, 2, 1]\n"
          ]
        }
      ]
    },
    {
      "cell_type": "code",
      "source": [
        "#9\n",
        "a = 10\n",
        "b = 14\n",
        "c = 12\n",
        "res = max(a, b, c)\n",
        "print(res)"
      ],
      "metadata": {
        "colab": {
          "base_uri": "https://localhost:8080/"
        },
        "id": "IapHZqpWLsSw",
        "outputId": "811ea9eb-cd6d-421c-c32a-df51398b2e13"
      },
      "execution_count": 10,
      "outputs": [
        {
          "output_type": "stream",
          "name": "stdout",
          "text": [
            "14\n"
          ]
        }
      ]
    }
  ]
}